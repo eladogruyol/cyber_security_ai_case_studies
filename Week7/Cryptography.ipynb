{
 "cells": [
  {
   "cell_type": "markdown",
   "metadata": {
    "id": "HmusVLpZ0BAT"
   },
   "source": [
    "# Implementation and Comparison of AES & DES Encryption\n",
    "\n",
    "Objectives:\n",
    "\n",
    "* ✔ Understand DES and AES encryption principles.\n",
    "* ✔ Implement DES and AES in Python.\n",
    "* ✔ Compare their performance and security.\n",
    "* ✔ Perform hands-on tasks to reinforce learning.\n",
    "\n",
    "\n",
    "\n",
    "\n",
    "\n"
   ]
  },
  {
   "cell_type": "markdown",
   "metadata": {
    "id": "yE7PaXv60XIv"
   },
   "source": [
    "Introduction to AES & DES\n",
    "\n",
    "🔹 Data Encryption Standard (DES)\n",
    "* Symmetric block cipher (same key for encryption & decryption).\n",
    "* Uses 56-bit key and encrypts 64-bit blocks.\n",
    "* Feistel Network structure, 16 rounds.\n",
    "* Weakness: Small key size → vulnerable to brute-force attacks.\n",
    "\n",
    "🔹 Advanced Encryption Standard (AES)\n",
    "* Symmetric block cipher (modern replacement for DES).\n",
    "* Uses 128, 192, or 256-bit keys and encrypts 128-bit blocks.\n",
    "* Substitution-Permutation Network (SPN) structure, 10-14 rounds.\n",
    "* More secure & faster than DE\n",
    "\n",
    "Comparison:\n",
    "![image.png](data:image/png;base64,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)\n",
    "\n",
    "✅ Task 1 1 (Short Answer):\n",
    "1️⃣ Why is DES considered weak?\n",
    "2️⃣ Where is AES commonly used?"
   ]
  },
  {
   "cell_type": "code",
   "execution_count": null,
   "metadata": {},
   "outputs": [],
   "source": [
    "#1- It is insecure, can be cracked in few days.\n",
    "#2- It is widely used as different areas such as banking."
   ]
  },
  {
   "cell_type": "markdown",
   "metadata": {
    "id": "3vys4N7U1EIP"
   },
   "source": [
    "# Step 1: Implementing DES (10 min)"
   ]
  },
  {
   "cell_type": "code",
   "execution_count": 1,
   "metadata": {
    "colab": {
     "base_uri": "https://localhost:8080/"
    },
    "id": "HmE17mFU1hJF",
    "outputId": "0c61200b-fcf3-492d-dce3-e512d8ad2e42"
   },
   "outputs": [
    {
     "name": "stdout",
     "output_type": "stream",
     "text": [
      "Requirement already satisfied: pycryptodome in c:\\users\\elado\\anaconda3\\lib\\site-packages (3.21.0)\n"
     ]
    },
    {
     "name": "stderr",
     "output_type": "stream",
     "text": [
      "\n",
      "[notice] A new release of pip is available: 24.3.1 -> 25.0.1\n",
      "[notice] To update, run: python.exe -m pip install --upgrade pip\n"
     ]
    }
   ],
   "source": [
    "! pip install pycryptodome"
   ]
  },
  {
   "cell_type": "markdown",
   "metadata": {
    "id": "erhEJy2E8N3-"
   },
   "source": [
    "# Following code imports the library for performing enecryption and decryption.\n",
    "\n",
    "We will use the following library:\n",
    "https://pycryptodome.readthedocs.io/en/latest/\n",
    "\n"
   ]
  },
  {
   "cell_type": "code",
   "execution_count": 2,
   "metadata": {
    "id": "7ugVbq3oz_bc"
   },
   "outputs": [],
   "source": [
    "from Crypto.Cipher import DES\n",
    "import base64\n"
   ]
  },
  {
   "cell_type": "code",
   "execution_count": 3,
   "metadata": {},
   "outputs": [],
   "source": [
    "# Function to pad text to be multiple of 8 bytes\n",
    "def pad(text, block_size):\n",
    "    while len(text) % block_size != 0:\n",
    "        text +=  ' '  # Padding with spaces\n",
    "    return text\n"
   ]
  },
  {
   "cell_type": "markdown",
   "metadata": {
    "id": "Nz76dwyj83EH"
   },
   "source": [
    "# The function encrypts a given plaintext using DES (Data Encryption Standard) in ECB mode. It first pads the plaintext to a multiple of 8 bytes, encrypts it using the provided key, and returns the Base64-encoded ciphertext."
   ]
  },
  {
   "cell_type": "code",
   "execution_count": 4,
   "metadata": {
    "id": "Gc6gb85G1Zb9"
   },
   "outputs": [],
   "source": [
    "# DES Encryption\n",
    "def des_encrypt(plain_text, key):\n",
    "    cipher = DES.new(key, DES.MODE_ECB)  # ECB mode\n",
    "    plain_text_padded_text = pad(plain_text, DES.block_size)        # plain_text_pad the plain text to make its length a multiple of 8 bytes\n",
    "    encrypted_text = cipher.encrypt(plain_text_padded_text.encode())  # Encrypt the plain_text_padded text\n",
    "    return base64.b64encode(encrypted_text).decode()  # Return the encrypted text encoded in base64\n"
   ]
  },
  {
   "cell_type": "markdown",
   "metadata": {
    "id": "i7lOqp9d-EYr"
   },
   "source": [
    "# This code defines a function des_encrypt that encrypts a given plaintext using the DES encryption algorithm in ECB mode, padding the plaintext to match the block size before encryption.\n",
    "\n"
   ]
  },
  {
   "cell_type": "code",
   "execution_count": 5,
   "metadata": {
    "id": "E-5o4ucj1cMU"
   },
   "outputs": [],
   "source": [
    "# DES Decryption\n",
    "def des_decrypt(encrypted_text, key):\n",
    "    cipher = DES.new(key, DES.MODE_ECB)  # Create cipher with the same key and mode\n",
    "    decrypted_text = cipher.decrypt(base64.b64decode(encrypted_text)).decode().strip()  # Decrypt and strip plain_text_padding\n",
    "    return decrypted_text\n"
   ]
  },
  {
   "cell_type": "code",
   "execution_count": 6,
   "metadata": {},
   "outputs": [
    {
     "name": "stdout",
     "output_type": "stream",
     "text": [
      "Encrypted text: HQqgsqSEljgBPH7L4con0w==\n",
      "Decrypted text: HelloCrypto\n"
     ]
    }
   ],
   "source": [
    "# Testing DES\n",
    "# Example usage:\n",
    "key = b'SecretKe'  # DES key must be exactly 8 bytes long\n",
    "plain_text = \"HelloCrypto\"\n",
    "encrypted = des_encrypt(plain_text, key)\n",
    "print(\"Encrypted text:\", encrypted)\n",
    "decrypted = des_decrypt(encrypted, key)\n",
    "print(\"Decrypted text:\", decrypted)"
   ]
  },
  {
   "cell_type": "markdown",
   "metadata": {
    "id": "ef4Mft_P2AWW"
   },
   "source": [
    "✅ Task 2:  Modify the above code to accept user input for plaintext and key.\n",
    "\n",
    "Hint - use input()"
   ]
  },
  {
   "cell_type": "code",
   "execution_count": 10,
   "metadata": {},
   "outputs": [
    {
     "name": "stdout",
     "output_type": "stream",
     "text": [
      "Enter a key that is exactly 8 bytes long:\n",
      "eightbyt\n",
      "Enter a text:\n",
      "cryptography1\n",
      "\n",
      "DES output:\n",
      "Encrypted text: n5Y5hAIWKRB+DURiZDGc0w==\n",
      "Decrypted text: cryptography1\n"
     ]
    }
   ],
   "source": [
    "while 1:\n",
    "    print('Enter a key that is exactly 8 bytes long:')\n",
    "    key = input()\n",
    "    if len(key) != 8:\n",
    "        print('Key size is not 8 bytes')\n",
    "    else:\n",
    "        break\n",
    "        \n",
    "key = bytes(key, 'utf-8')\n",
    "\n",
    "print('Enter a text:')\n",
    "plain_text = input()\n",
    "\n",
    "print(\"\\nDES output:\")\n",
    "encrypted = des_encrypt(plain_text, key)\n",
    "print(\"Encrypted text:\", encrypted)\n",
    "decrypted = des_decrypt(encrypted, key)\n",
    "print(\"Decrypted text:\", decrypted)"
   ]
  },
  {
   "cell_type": "markdown",
   "metadata": {
    "id": "xhKZ30VV2PMF"
   },
   "source": [
    "Following  code imports the necessary modules to perform AES encryption and decryption, including padding and unpadding functions, as well as base64 encoding/decoding."
   ]
  },
  {
   "cell_type": "code",
   "execution_count": 11,
   "metadata": {
    "id": "mKCmsHCV10pe"
   },
   "outputs": [],
   "source": [
    "from Crypto.Cipher import AES\n",
    "import base64"
   ]
  },
  {
   "cell_type": "markdown",
   "metadata": {
    "id": "j3ItmsO7-vdT"
   },
   "source": [
    "Following code defines a function aes_encrypt that encrypts a given plaintext using the AES algorithm in ECB mode (we will learn the ECB mode later), pads the plaintext to match the block size, and then returns the encrypted text encoded in base64."
   ]
  },
  {
   "cell_type": "code",
   "execution_count": 12,
   "metadata": {
    "id": "FvFrYSZK2QrK"
   },
   "outputs": [],
   "source": [
    "# AES Encryption\n",
    "def aes_encrypt(plain_text, key):\n",
    "    cipher = AES.new(key, AES.MODE_ECB)  # ECB mode\n",
    "    print (type(plain_text))\n",
    "    padded_text = pad(plain_text, AES.block_size)  # Pad the plain text to block size\n",
    "    encrypted_text = cipher.encrypt(padded_text.encode())  # Encrypt the padded text\n",
    "    return base64.b64encode(encrypted_text).decode()  # Return the encrypted text in base64 format\n"
   ]
  },
  {
   "cell_type": "markdown",
   "metadata": {
    "id": "hm041ZSF-9Sg"
   },
   "source": [
    "Following code defines a function aes_decrypt that decrypts a given base64-encoded ciphertext using the AES algorithm in ECB mode, then unpads the decrypted text and returns the plaintext.\n",
    "\n",
    "\n",
    "\n",
    "\n",
    "\n",
    "\n",
    "\n"
   ]
  },
  {
   "cell_type": "code",
   "execution_count": 13,
   "metadata": {
    "id": "_LFSRTRD2s3J"
   },
   "outputs": [],
   "source": [
    "# AES Decryption\n",
    "def aes_decrypt(encrypted_text, key):\n",
    "    cipher = AES.new(key, AES.MODE_ECB)  # Create the same AES cipher object\n",
    "    decrypted_text = cipher.decrypt(base64.b64decode(encrypted_text)).decode().strip()  # Decrypt and strip plain_text_padding\n",
    "    return decrypted_text\n"
   ]
  },
  {
   "cell_type": "code",
   "execution_count": 14,
   "metadata": {
    "colab": {
     "base_uri": "https://localhost:8080/"
    },
    "id": "l6AAHp8S2vgr",
    "outputId": "624c291e-06fe-4ead-ba3e-9169bbe388b3"
   },
   "outputs": [
    {
     "name": "stdout",
     "output_type": "stream",
     "text": [
      "<class 'str'>\n",
      "AES Encrypted: GivAPqcdNy0zbxUWJl3mdw==\n",
      "AES Decrypted: HelloCrypto\n"
     ]
    }
   ],
   "source": [
    "# Testing AES\n",
    "key = b'16bytekeylengthp'  # AES requires 16-byte, 24-byte, or 32-byte key\n",
    "plain_text = \"HelloCrypto\"  # The text to encrypt\n",
    "encrypted_text = aes_encrypt(plain_text, key)  # Encrypt the text\n",
    "decrypted_text = aes_decrypt(encrypted_text, key)  # Decrypt the text\n",
    "\n",
    "# Print the results\n",
    "print(f\"AES Encrypted: {encrypted_text}\")  # Output the encrypted text\n",
    "print(f\"AES Decrypted: {decrypted_text}\")  # Output the decrypted text\n"
   ]
  },
  {
   "cell_type": "markdown",
   "metadata": {
    "id": "65ncyHiW3D3I"
   },
   "source": [
    "✅ Task 3: Modify the AES code to accept user input for plaintext and key.\n",
    "\n",
    "✅ Task 4: Change the AES key size to 24 bytes and run the program."
   ]
  },
  {
   "cell_type": "code",
   "execution_count": 19,
   "metadata": {},
   "outputs": [
    {
     "name": "stdout",
     "output_type": "stream",
     "text": [
      "Enter a key that is 16, 24 or 32 bytes long:\n",
      "sixteenbyteskey1\n",
      "Enter a text:\n",
      "aestextcryptography\n",
      "<class 'str'>\n",
      "\n",
      "AES output:\n",
      "AES Encrypted: 2QCcLjv2TrRYIxA7fbUHLglmJAhbbQSvnMR1ca9mDdE=\n",
      "AES Decrypted: aestextcryptography\n"
     ]
    }
   ],
   "source": [
    "#Task3\n",
    "while 1:\n",
    "    print('Enter a key that is 16, 24 or 32 bytes long:')\n",
    "    key = input()\n",
    "    if len(key) != 16 and len(key) != 24 and len(key) != 32:\n",
    "        print('Key size is unappropriate')\n",
    "    else:\n",
    "        break\n",
    "key = bytes(key, 'utf-8')\n",
    "\n",
    "print('Enter a text:')\n",
    "plain_text = input()\n",
    "\n",
    "encrypted_text = aes_encrypt(plain_text, key)\n",
    "decrypted_text = aes_decrypt(encrypted_text, key)\n",
    "\n",
    "print(\"\\nAES output:\")\n",
    "print(f\"AES Encrypted: {encrypted_text}\")\n",
    "print(f\"AES Decrypted: {decrypted_text}\")"
   ]
  },
  {
   "cell_type": "code",
   "execution_count": 20,
   "metadata": {},
   "outputs": [
    {
     "name": "stdout",
     "output_type": "stream",
     "text": [
      "<class 'str'>\n",
      "AES Encrypted: OnZrd+gqQety6gARylCYBQ==\n",
      "AES Decrypted: HelloCrypto\n"
     ]
    }
   ],
   "source": [
    "#Task4\n",
    "key = b'twentyfourbyteskeycrypto'  # 24-bytes key\n",
    "plain_text = \"HelloCrypto\"  # The text to encrypt\n",
    "encrypted_text = aes_encrypt(plain_text, key)  # Encrypt the text\n",
    "decrypted_text = aes_decrypt(encrypted_text, key)  # Decrypt the text\n",
    "\n",
    "# Print the results\n",
    "print(f\"AES Encrypted: {encrypted_text}\")  # Output the encrypted text\n",
    "print(f\"AES Decrypted: {decrypted_text}\")  # Output the decrypted text\n"
   ]
  },
  {
   "cell_type": "markdown",
   "metadata": {
    "id": "mGSjq_xU_DhE"
   },
   "source": [
    "Following  code measures the time taken to encrypt the plaintext \"HelloCrypto\" using the DES encryption algorithm by recording the start and end times and then printing the elapsed time.\n",
    "\n",
    "\n",
    "\n",
    "\n",
    "\n",
    "\n",
    "\n"
   ]
  },
  {
   "cell_type": "code",
   "execution_count": 21,
   "metadata": {
    "id": "vkeeRmFN2znk"
   },
   "outputs": [
    {
     "name": "stdout",
     "output_type": "stream",
     "text": [
      "DES Encryption Time: 0.00 sec\n"
     ]
    }
   ],
   "source": [
    "import time\n",
    "\n",
    "# Measure DES encryption time\n",
    "key = b'SecretKe'\n",
    "plain_text = \"HelloCryptoCrypto\"  # The text to encrypt\n",
    "start = time.time()  # Record the starting time\n",
    "des_encrypt(plain_text, key)  # Encrypt the text using the DES algorithm\n",
    "end = time.time()  # Record the ending time\n",
    "print(f\"DES Encryption Time: {end - start:.2f} sec\")  # Calculate and print the time difference\n",
    "\n",
    "\n"
   ]
  },
  {
   "cell_type": "markdown",
   "metadata": {
    "id": "4PeN01Bn_MfR"
   },
   "source": [
    "✅ Task 5: In the following cell, write the Python code to measure the time taken by AES encryption *algorithm*"
   ]
  },
  {
   "cell_type": "code",
   "execution_count": 22,
   "metadata": {
    "id": "s98Pj9Iu3lgK"
   },
   "outputs": [
    {
     "name": "stdout",
     "output_type": "stream",
     "text": [
      "<class 'str'>\n",
      "AES Encryption Time: 0.00 sec\n"
     ]
    }
   ],
   "source": [
    "# Measure AES encryption time\n",
    "\n",
    "#\n",
    "# Write your code to measure the AES encryption time\n",
    "#\n",
    "#\n",
    "\n",
    "key = b'16bytekeylengthp'  # AES requires 16-byte, 24-byte, or 32-byte key\n",
    "plain_text = \"HelloCrypto\"  # The text to encrypt\n",
    "start = time.time()\n",
    "aes_encrypt(plain_text, key)  # Encrypt the text\n",
    "end = time.time()\n",
    "print(f\"AES Encryption Time: {end - start:.2f} sec\")\n"
   ]
  },
  {
   "cell_type": "markdown",
   "metadata": {
    "id": "N9QZqz_27ZS-"
   },
   "source": [
    "Following code encrpts the image using AES algorithm.\n",
    "The image file is named as 'input.jpg'.\n",
    "\n",
    "✅ Task 6: Test the code for different types of images and show the original abd cypherimage. Is your encryption method, good or bad?\n",
    "Save your image as file name - input.jpg or change the code to adjust for any images.\n",
    "\n",
    "\n"
   ]
  },
  {
   "cell_type": "code",
   "execution_count": 29,
   "metadata": {
    "colab": {
     "base_uri": "https://localhost:8080/"
    },
    "id": "3INBBAoL6H5M",
    "outputId": "2d4da7ad-2861-4bb5-8a9b-5121a9595bf0"
   },
   "outputs": [
    {
     "name": "stdout",
     "output_type": "stream",
     "text": [
      "Encrypted image saved as encrypted_ecb.png\n"
     ]
    },
    {
     "data": {
      "image/png": "[encoded data removed]",
      "text/plain": [
       "<Figure size 640x480 with 1 Axes>"
      ]
     },
     "metadata": {},
     "output_type": "display_data"
    }
   ],
   "source": [
    "from Crypto.Cipher import AES\n",
    "from Crypto.Util.Padding import pad, unpad\n",
    "from PIL import Image\n",
    "import numpy as np\n",
    "import os\n",
    "import matplotlib.pyplot as plt\n",
    "\n",
    "\n",
    "def load_image(image_path):\n",
    "    img = Image.open(image_path).convert('L')  # Convert to grayscale\n",
    "    img_data = np.array(img)\n",
    "    return img, img_data\n",
    "\n",
    "def save_image(image_data, output_path):\n",
    "    img = Image.fromarray(image_data)\n",
    "    img.save(output_path)\n",
    "\n",
    "def encrypt_ecb(image_data, key):\n",
    "    cipher = AES.new(key, AES.MODE_ECB)\n",
    "    shape = image_data.shape\n",
    "    flat_data = image_data.flatten()\n",
    "    padded_data = pad(flat_data.tobytes(), AES.block_size)\n",
    "    encrypted_data = cipher.encrypt(padded_data)\n",
    "    encrypted_array = np.frombuffer(encrypted_data, dtype=np.uint8)[:flat_data.size]\n",
    "    return encrypted_array.reshape(shape)\n",
    "\n",
    "def main():\n",
    "    input_image = 'input.jpg'  # Change to your image file\n",
    "    output_image = 'encrypted_ecb.png'\n",
    "    key = os.urandom(16)  # 16-byte AES key\n",
    "\n",
    "    img, img_data = load_image(input_image)\n",
    "    encrypted_data = encrypt_ecb(img_data, key)\n",
    "    save_image(encrypted_data, output_image)\n",
    "    print(f\"Encrypted image saved as {output_image}\")\n",
    "\n",
    "if __name__ == \"__main__\":\n",
    "    main()\n",
    "\n",
    "img = Image.open('encrypted_ecb.png')\n",
    "plt.imshow(img, cmap='gray') # Displaying as grayscale\n",
    "plt.axis('off')\n",
    "plt.show()"
   ]
  },
  {
   "cell_type": "markdown",
   "metadata": {
    "colab": {
     "base_uri": "https://localhost:8080/",
     "height": 367
    },
    "id": "UwRnT4ED77Cb",
    "outputId": "172e789e-1307-460f-fe8e-ad85a37542f9"
   },
   "source": [
    "**Important: Lab Logbook requirement**\n",
    "Provide the following in your lab-log book.\n",
    "1. Sample of plain and cypher text for AES and DES\n",
    "2. Real image and cipher image for the image of any choice using AES.\n",
    "3. Explain in one word - 'YES' or 'NO' whether your encryption method for the images is good."
   ]
  },
  {
   "cell_type": "markdown",
   "metadata": {
    "id": "RwlDNHwHAuZQ"
   },
   "source": []
  },
  {
   "cell_type": "code",
   "execution_count": null,
   "metadata": {
    "id": "le9b2s858GV6"
   },
   "outputs": [],
   "source": []
  },
  {
   "cell_type": "code",
   "execution_count": null,
   "metadata": {},
   "outputs": [],
   "source": []
  }
 ],
 "metadata": {
  "colab": {
   "provenance": []
  },
  "kernelspec": {
   "display_name": "Python 3 (ipykernel)",
   "language": "python",
   "name": "python3"
  },
  "language_info": {
   "codemirror_mode": {
    "name": "ipython",
    "version": 3
   },
   "file_extension": ".py",
   "mimetype": "text/x-python",
   "name": "python",
   "nbconvert_exporter": "python",
   "pygments_lexer": "ipython3",
   "version": "3.9.13"
  }
 },
 "nbformat": 4,
 "nbformat_minor": 4
}
